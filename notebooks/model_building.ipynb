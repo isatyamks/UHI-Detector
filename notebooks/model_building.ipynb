{
 "cells": [
  {
   "cell_type": "code",
   "execution_count": null,
   "id": "7d0e3057-8d10-430c-9b2a-889ecd9cf29f",
   "metadata": {},
   "outputs": [],
   "source": []
  },
  {
   "cell_type": "code",
   "execution_count": 10,
   "id": "b36e20b4-f043-4854-b6bc-b07259dc704a",
   "metadata": {},
   "outputs": [],
   "source": [
    "import requests\n"
   ]
  },
  {
   "cell_type": "code",
   "execution_count": 11,
   "id": "70a59160-c348-4157-844a-71852e933bff",
   "metadata": {},
   "outputs": [
    {
     "data": {
      "text/plain": [
       "'3dd2734ecf9326451cff543df5bc7e29'"
      ]
     },
     "execution_count": 11,
     "metadata": {},
     "output_type": "execute_result"
    }
   ],
   "source": [
    "from dotenv import load_dotenv\n",
    "import os\n",
    "load_dotenv()\n",
    "w_api = os.getenv('w_api')\n",
    "w_api"
   ]
  },
  {
   "cell_type": "code",
   "execution_count": 12,
   "id": "3934fdab-8f87-44ed-86c9-a3141acaeb28",
   "metadata": {},
   "outputs": [
    {
     "name": "stdout",
     "output_type": "stream",
     "text": [
      "API Key: 3dd2734ecf9326451cff543df5bc7e29\n"
     ]
    }
   ],
   "source": [
    "print(\"API Key:\", w_api)\n"
   ]
  },
  {
   "cell_type": "code",
   "execution_count": 13,
   "id": "ded49dc1-0437-4edd-8686-90fd0c1a0eec",
   "metadata": {},
   "outputs": [
    {
     "name": "stdout",
     "output_type": "stream",
     "text": [
      "{'cod': 401, 'message': 'Invalid API key. Please see https://openweathermap.org/faq#error401 for more info.'}\n"
     ]
    }
   ],
   "source": [
    "import requests\n",
    "\n",
    "response = requests.get(\"https://api.openweathermap.org/data/2.5/weather\", params={\n",
    "    \"lat\": 28.7041,  # Latitude for Delhi, India\n",
    "    \"lon\": 77.1025,  # Longitude for Delhi, India\n",
    "    \"appid\": w_api   # Pass the API key\n",
    "})\n",
    "\n",
    "# Print the response\n",
    "print(response.json())\n"
   ]
  },
  {
   "cell_type": "code",
   "execution_count": 14,
   "id": "ea29f55d-e67d-4f8f-b8a6-0f2877c74244",
   "metadata": {},
   "outputs": [
    {
     "name": "stdout",
     "output_type": "stream",
     "text": [
      "{'cod': 401, 'message': 'Invalid API key. Please see https://openweathermap.org/faq#error401 for more info.'}\n"
     ]
    }
   ],
   "source": [
    "print(response.json())"
   ]
  },
  {
   "cell_type": "code",
   "execution_count": null,
   "id": "53f7d867-62f8-4f89-8fd6-f53d11f23708",
   "metadata": {},
   "outputs": [],
   "source": [
    "#landset--->9 data\n",
    "\n",
    "# ee.ImageCollection(\"LANDSAT/LC09/C02/T1_L2\")\n",
    "\n"
   ]
  },
  {
   "cell_type": "code",
   "execution_count": null,
   "id": "578ce289-a040-49db-bfd9-5a085e3cf798",
   "metadata": {},
   "outputs": [],
   "source": [
    "import geemap\n",
    "import ee"
   ]
  }
 ],
 "metadata": {
  "kernelspec": {
   "display_name": "Python 3 (ipykernel)",
   "language": "python",
   "name": "python3"
  },
  "language_info": {
   "codemirror_mode": {
    "name": "ipython",
    "version": 3
   },
   "file_extension": ".py",
   "mimetype": "text/x-python",
   "name": "python",
   "nbconvert_exporter": "python",
   "pygments_lexer": "ipython3",
   "version": "3.12.3"
  }
 },
 "nbformat": 4,
 "nbformat_minor": 5
}
