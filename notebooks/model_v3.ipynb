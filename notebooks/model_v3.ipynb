{
 "cells": [
  {
   "cell_type": "code",
   "execution_count": null,
   "id": "205e37ea-3be6-4cb6-b135-1e03cdabe783",
   "metadata": {},
   "outputs": [],
   "source": [
    "# Stick to LST, NDVI, and NDBI if you aim for a straightforward UHI detection.\n",
    "# Consider integrating additional datasets if:\n",
    "# You want to link UHIs to population or health impacts.\n",
    "# You aim to study the broader environmental consequences."
   ]
  },
  {
   "cell_type": "code",
   "execution_count": null,
   "id": "9ab134c3-9356-48be-9ef6-a357549fe2a4",
   "metadata": {},
   "outputs": [],
   "source": [
    "#start adding these 3 datasets one by one by understanding the their roles and usecases in this model\n"
   ]
  },
  {
   "cell_type": "code",
   "execution_count": null,
   "id": "bb9337dc-fee0-424e-96f6-a21feaf39597",
   "metadata": {},
   "outputs": [],
   "source": [
    "# start with 1. LST\n",
    "#  Land Surface Temperature\n",
    "# This product is the temperature of terrestrial land surface.\n",
    "\n",
    "# This is an ongoing dataset with a latency of 3-4 days\n",
    "# ee.ImageCollection(\"JAXA/GCOM-C/L3/LAND/LST/V3\") ----> the dataset\n"
   ]
  },
  {
   "cell_type": "code",
   "execution_count": 2,
   "id": "a3e8a0b3-737a-40dd-ba75-5f88dd3d575b",
   "metadata": {},
   "outputs": [],
   "source": [
    "import ee\n",
    "from dotenv import load_dotenv\n",
    "import os\n",
    "\n"
   ]
  },
  {
   "cell_type": "code",
   "execution_count": 3,
   "id": "d4a9ac83-194b-4a78-ab40-0df2591167ae",
   "metadata": {},
   "outputs": [
    {
     "data": {
      "text/plain": [
       "True"
      ]
     },
     "execution_count": 3,
     "metadata": {},
     "output_type": "execute_result"
    }
   ],
   "source": [
    "ee.Authenticate() #-----> authentication for google api -connection"
   ]
  },
  {
   "cell_type": "code",
   "execution_count": 17,
   "id": "d42d23ca-d877-4310-8c94-9f08c12a678a",
   "metadata": {},
   "outputs": [],
   "source": [
    "#importing the project_name from .env file \n",
    "load_dotenv()\n",
    "p_name=os.getenv('class')"
   ]
  },
  {
   "cell_type": "code",
   "execution_count": 19,
   "id": "4967731a-637e-4ab2-b9dd-02047f5b34ea",
   "metadata": {},
   "outputs": [],
   "source": [
    "ee.Initialize(project = p_name)"
   ]
  },
  {
   "cell_type": "code",
   "execution_count": null,
   "id": "86da5ad1-669b-4abc-ae5c-da8033330c39",
   "metadata": {},
   "outputs": [],
   "source": []
  }
 ],
 "metadata": {
  "kernelspec": {
   "display_name": "Python 3 (ipykernel)",
   "language": "python",
   "name": "python3"
  },
  "language_info": {
   "codemirror_mode": {
    "name": "ipython",
    "version": 3
   },
   "file_extension": ".py",
   "mimetype": "text/x-python",
   "name": "python",
   "nbconvert_exporter": "python",
   "pygments_lexer": "ipython3",
   "version": "3.12.3"
  }
 },
 "nbformat": 4,
 "nbformat_minor": 5
}
