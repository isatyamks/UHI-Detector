{
 "cells": [
  {
   "cell_type": "code",
   "execution_count": 1,
   "id": "dfde3604-7272-47a4-8025-c71d820fb838",
   "metadata": {},
   "outputs": [],
   "source": [
    "import ee"
   ]
  },
  {
   "cell_type": "code",
   "execution_count": 2,
   "id": "b5f18e3d-bee4-4bed-824f-655bf9d81cc3",
   "metadata": {},
   "outputs": [
    {
     "data": {
      "text/plain": [
       "True"
      ]
     },
     "execution_count": 2,
     "metadata": {},
     "output_type": "execute_result"
    }
   ],
   "source": [
    "ee.Authenticate()"
   ]
  },
  {
   "cell_type": "code",
   "execution_count": 8,
   "id": "cafe40d6-e146-4de6-a85a-7cc39bf87594",
   "metadata": {},
   "outputs": [
    {
     "data": {
      "text/plain": [
       "'neat-talent-425808-c6'"
      ]
     },
     "execution_count": 8,
     "metadata": {},
     "output_type": "execute_result"
    }
   ],
   "source": [
    "from dotenv import load_dotenv\n",
    "import os\n",
    "load_dotenv()\n",
    "ck = os.getenv('class')\n",
    "ck\n"
   ]
  },
  {
   "cell_type": "code",
   "execution_count": 11,
   "id": "10a82b19-1738-40a4-95a6-83e86ab5a8f0",
   "metadata": {},
   "outputs": [
    {
     "ename": "NameError",
     "evalue": "name 'neat' is not defined",
     "output_type": "error",
     "traceback": [
      "\u001b[1;31m---------------------------------------------------------------------------\u001b[0m",
      "\u001b[1;31mNameError\u001b[0m                                 Traceback (most recent call last)",
      "Cell \u001b[1;32mIn[11], line 1\u001b[0m\n\u001b[1;32m----> 1\u001b[0m ee\u001b[38;5;241m.\u001b[39mInitialize(\u001b[43mneat\u001b[49m\u001b[38;5;241m-\u001b[39mtalent\u001b[38;5;241m-\u001b[39m\u001b[38;5;241m425808\u001b[39m\u001b[38;5;241m-\u001b[39mc6)\n",
      "\u001b[1;31mNameError\u001b[0m: name 'neat' is not defined"
     ]
    }
   ],
   "source": [
    "ee.Initialize(neat-talent-425808-c6)"
   ]
  },
  {
   "cell_type": "code",
   "execution_count": null,
   "id": "7e662522-86eb-4ede-8c7c-dbdd22218a75",
   "metadata": {},
   "outputs": [],
   "source": []
  }
 ],
 "metadata": {
  "kernelspec": {
   "display_name": "Python 3 (ipykernel)",
   "language": "python",
   "name": "python3"
  },
  "language_info": {
   "codemirror_mode": {
    "name": "ipython",
    "version": 3
   },
   "file_extension": ".py",
   "mimetype": "text/x-python",
   "name": "python",
   "nbconvert_exporter": "python",
   "pygments_lexer": "ipython3",
   "version": "3.12.3"
  }
 },
 "nbformat": 4,
 "nbformat_minor": 5
}
