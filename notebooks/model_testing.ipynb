{
 "cells": [
  {
   "cell_type": "code",
   "execution_count": 21,
   "id": "dfde3604-7272-47a4-8025-c71d820fb838",
   "metadata": {},
   "outputs": [],
   "source": [
    "import geemap\n",
    "import ee"
   ]
  },
  {
   "cell_type": "code",
   "execution_count": 2,
   "id": "b5f18e3d-bee4-4bed-824f-655bf9d81cc3",
   "metadata": {},
   "outputs": [
    {
     "data": {
      "text/plain": [
       "True"
      ]
     },
     "execution_count": 2,
     "metadata": {},
     "output_type": "execute_result"
    }
   ],
   "source": [
    "ee.Authenticate()"
   ]
  },
  {
   "cell_type": "code",
   "execution_count": 8,
   "id": "cafe40d6-e146-4de6-a85a-7cc39bf87594",
   "metadata": {},
   "outputs": [
    {
     "data": {
      "text/plain": [
       "'neat-talent-425808-c6'"
      ]
     },
     "execution_count": 8,
     "metadata": {},
     "output_type": "execute_result"
    }
   ],
   "source": [
    "from dotenv import load_dotenv\n",
    "import os\n",
    "load_dotenv()\n",
    "ck = os.getenv('class')\n",
    "ck\n"
   ]
  },
  {
   "cell_type": "code",
   "execution_count": 12,
   "id": "10a82b19-1738-40a4-95a6-83e86ab5a8f0",
   "metadata": {},
   "outputs": [],
   "source": [
    "ee.Initialize(project=ck)"
   ]
  },
  {
   "cell_type": "code",
   "execution_count": 15,
   "id": "7e662522-86eb-4ede-8c7c-dbdd22218a75",
   "metadata": {},
   "outputs": [],
   "source": [
    "gse =ee.Image(ee.ImageCollection(\"CSIC/SPEI/2_9\"))"
   ]
  },
  {
   "cell_type": "code",
   "execution_count": 16,
   "id": "6127687b-6848-4b34-8e95-0ccde4555937",
   "metadata": {},
   "outputs": [
    {
     "data": {
      "text/plain": [
       "<ee.image.Image at 0x1a45d28bbc0>"
      ]
     },
     "execution_count": 16,
     "metadata": {},
     "output_type": "execute_result"
    }
   ],
   "source": [
    "gse"
   ]
  },
  {
   "cell_type": "code",
   "execution_count": 17,
   "id": "9e5210d0-a19b-4ea6-a629-b161fd46c1c4",
   "metadata": {},
   "outputs": [],
   "source": [
    "occurrence = gse.select('occurrence')"
   ]
  },
  {
   "cell_type": "code",
   "execution_count": 18,
   "id": "29030cf7-8ca9-479d-8f9a-2474897c9596",
   "metadata": {},
   "outputs": [
    {
     "ename": "SyntaxError",
     "evalue": "cannot assign to literal here. Maybe you meant '==' instead of '='? (827015081.py, line 3)",
     "output_type": "error",
     "traceback": [
      "\u001b[1;36m  Cell \u001b[1;32mIn[18], line 3\u001b[1;36m\u001b[0m\n\u001b[1;33m    'min' = 0,\u001b[0m\n\u001b[1;37m    ^\u001b[0m\n\u001b[1;31mSyntaxError\u001b[0m\u001b[1;31m:\u001b[0m cannot assign to literal here. Maybe you meant '==' instead of '='?\n"
     ]
    }
   ],
   "source": [
    "#visual\n",
    "visparams = {\n",
    "    'min' = 0,\n",
    "    'max' = 100,\n",
    "    'palette': ['read','blue']\n",
    "}"
   ]
  },
  {
   "cell_type": "code",
   "execution_count": 22,
   "id": "aaf5746a-1186-4cbd-9e74-cd0f22c34a9a",
   "metadata": {},
   "outputs": [
    {
     "data": {
      "text/html": [
       "\n",
       "            <style>\n",
       "                .geemap-dark {\n",
       "                    --jp-widgets-color: white;\n",
       "                    --jp-widgets-label-color: white;\n",
       "                    --jp-ui-font-color1: white;\n",
       "                    --jp-layout-color2: #454545;\n",
       "                    background-color: #383838;\n",
       "                }\n",
       "\n",
       "                .geemap-dark .jupyter-button {\n",
       "                    --jp-layout-color3: #383838;\n",
       "                }\n",
       "\n",
       "                .geemap-colab {\n",
       "                    background-color: var(--colab-primary-surface-color, white);\n",
       "                }\n",
       "\n",
       "                .geemap-colab .jupyter-button {\n",
       "                    --jp-layout-color3: var(--colab-primary-surface-color, white);\n",
       "                }\n",
       "            </style>\n",
       "            "
      ],
      "text/plain": [
       "<IPython.core.display.HTML object>"
      ]
     },
     "metadata": {},
     "output_type": "display_data"
    },
    {
     "data": {
      "application/vnd.jupyter.widget-view+json": {
       "model_id": "d3e1434cd8774a86a0c917f6a9114b72",
       "version_major": 2,
       "version_minor": 0
      },
      "text/plain": [
       "Map(center=[36.2841, -112.8598], controls=(WidgetControl(options=['position', 'transparent_bg'], widget=Search…"
      ]
     },
     "execution_count": 22,
     "metadata": {},
     "output_type": "execute_result"
    }
   ],
   "source": [
    "dataset = ee.Image('CGIAR/SRTM90_V4')\n",
    "elevation = dataset.select('elevation')\n",
    "slope = ee.Terrain.slope(elevation)\n",
    "\n",
    "m = geemap.Map()\n",
    "m.set_center(-112.8598, 36.2841, 10)\n",
    "m.add_layer(slope, {'min': 0, 'max': 60}, 'slope')\n",
    "m"
   ]
  },
  {
   "cell_type": "code",
   "execution_count": 20,
   "id": "191327a9-4259-4e24-b197-42a2f668b919",
   "metadata": {},
   "outputs": [
    {
     "name": "stdout",
     "output_type": "stream",
     "text": [
      "Requirement already satisfied: geemap in c:\\users\\isatyamks\\appdata\\local\\programs\\python\\python312\\lib\\site-packages (0.35.1)\n",
      "Requirement already satisfied: bqplot in c:\\users\\isatyamks\\appdata\\local\\programs\\python\\python312\\lib\\site-packages (from geemap) (0.12.43)\n",
      "Requirement already satisfied: colour in c:\\users\\isatyamks\\appdata\\local\\programs\\python\\python312\\lib\\site-packages (from geemap) (0.1.5)\n",
      "Requirement already satisfied: earthengine-api>=1.0.0 in c:\\users\\isatyamks\\appdata\\local\\programs\\python\\python312\\lib\\site-packages (from geemap) (1.4.3)\n",
      "Requirement already satisfied: eerepr>=0.0.4 in c:\\users\\isatyamks\\appdata\\local\\programs\\python\\python312\\lib\\site-packages (from geemap) (0.0.4)\n",
      "Requirement already satisfied: folium>=0.17.0 in c:\\users\\isatyamks\\appdata\\local\\programs\\python\\python312\\lib\\site-packages (from geemap) (0.19.2)\n",
      "Requirement already satisfied: geocoder in c:\\users\\isatyamks\\appdata\\local\\programs\\python\\python312\\lib\\site-packages (from geemap) (1.38.1)\n",
      "Requirement already satisfied: ipyevents in c:\\users\\isatyamks\\appdata\\local\\programs\\python\\python312\\lib\\site-packages (from geemap) (2.0.2)\n",
      "Requirement already satisfied: ipyfilechooser>=0.6.0 in c:\\users\\isatyamks\\appdata\\local\\programs\\python\\python312\\lib\\site-packages (from geemap) (0.6.0)\n",
      "Requirement already satisfied: ipyleaflet>=0.19.2 in c:\\users\\isatyamks\\appdata\\local\\programs\\python\\python312\\lib\\site-packages (from geemap) (0.19.2)\n",
      "Requirement already satisfied: ipytree in c:\\users\\isatyamks\\appdata\\local\\programs\\python\\python312\\lib\\site-packages (from geemap) (0.2.2)\n",
      "Requirement already satisfied: matplotlib in c:\\users\\isatyamks\\appdata\\local\\programs\\python\\python312\\lib\\site-packages (from geemap) (3.9.0)\n",
      "Requirement already satisfied: numpy in c:\\users\\isatyamks\\appdata\\local\\programs\\python\\python312\\lib\\site-packages (from geemap) (1.26.4)\n",
      "Requirement already satisfied: pandas in c:\\users\\isatyamks\\appdata\\local\\programs\\python\\python312\\lib\\site-packages (from geemap) (2.2.2)\n",
      "Requirement already satisfied: plotly in c:\\users\\isatyamks\\appdata\\local\\programs\\python\\python312\\lib\\site-packages (from geemap) (5.22.0)\n",
      "Requirement already satisfied: pyperclip in c:\\users\\isatyamks\\appdata\\local\\programs\\python\\python312\\lib\\site-packages (from geemap) (1.9.0)\n",
      "Requirement already satisfied: pyshp>=2.3.1 in c:\\users\\isatyamks\\appdata\\local\\programs\\python\\python312\\lib\\site-packages (from geemap) (2.3.1)\n",
      "Requirement already satisfied: python-box in c:\\users\\isatyamks\\appdata\\local\\programs\\python\\python312\\lib\\site-packages (from geemap) (7.3.0)\n",
      "Requirement already satisfied: scooby in c:\\users\\isatyamks\\appdata\\local\\programs\\python\\python312\\lib\\site-packages (from geemap) (0.10.0)\n",
      "Requirement already satisfied: google-cloud-storage in c:\\users\\isatyamks\\appdata\\local\\programs\\python\\python312\\lib\\site-packages (from earthengine-api>=1.0.0->geemap) (2.19.0)\n",
      "Requirement already satisfied: google-api-python-client>=1.12.1 in c:\\users\\isatyamks\\appdata\\local\\programs\\python\\python312\\lib\\site-packages (from earthengine-api>=1.0.0->geemap) (2.149.0)\n",
      "Requirement already satisfied: google-auth>=1.4.1 in c:\\users\\isatyamks\\appdata\\local\\programs\\python\\python312\\lib\\site-packages (from earthengine-api>=1.0.0->geemap) (2.30.0)\n",
      "Requirement already satisfied: google-auth-httplib2>=0.0.3 in c:\\users\\isatyamks\\appdata\\local\\programs\\python\\python312\\lib\\site-packages (from earthengine-api>=1.0.0->geemap) (0.2.0)\n",
      "Requirement already satisfied: httplib2<1dev,>=0.9.2 in c:\\users\\isatyamks\\appdata\\local\\programs\\python\\python312\\lib\\site-packages (from earthengine-api>=1.0.0->geemap) (0.22.0)\n",
      "Requirement already satisfied: requests in c:\\users\\isatyamks\\appdata\\local\\programs\\python\\python312\\lib\\site-packages (from earthengine-api>=1.0.0->geemap) (2.32.2)\n",
      "Requirement already satisfied: branca>=0.6.0 in c:\\users\\isatyamks\\appdata\\local\\programs\\python\\python312\\lib\\site-packages (from folium>=0.17.0->geemap) (0.8.1)\n",
      "Requirement already satisfied: jinja2>=2.9 in c:\\users\\isatyamks\\appdata\\local\\programs\\python\\python312\\lib\\site-packages (from folium>=0.17.0->geemap) (3.1.4)\n",
      "Requirement already satisfied: xyzservices in c:\\users\\isatyamks\\appdata\\local\\programs\\python\\python312\\lib\\site-packages (from folium>=0.17.0->geemap) (2024.9.0)\n",
      "Requirement already satisfied: ipywidgets in c:\\users\\isatyamks\\appdata\\local\\programs\\python\\python312\\lib\\site-packages (from ipyfilechooser>=0.6.0->geemap) (8.1.3)\n",
      "Requirement already satisfied: jupyter-leaflet<0.20,>=0.19 in c:\\users\\isatyamks\\appdata\\local\\programs\\python\\python312\\lib\\site-packages (from ipyleaflet>=0.19.2->geemap) (0.19.2)\n",
      "Requirement already satisfied: traittypes<3,>=0.2.1 in c:\\users\\isatyamks\\appdata\\local\\programs\\python\\python312\\lib\\site-packages (from ipyleaflet>=0.19.2->geemap) (0.2.1)\n",
      "Requirement already satisfied: traitlets>=4.3.0 in c:\\users\\isatyamks\\appdata\\local\\programs\\python\\python312\\lib\\site-packages (from bqplot->geemap) (5.14.3)\n",
      "Requirement already satisfied: python-dateutil>=2.8.2 in c:\\users\\isatyamks\\appdata\\local\\programs\\python\\python312\\lib\\site-packages (from pandas->geemap) (2.9.0.post0)\n",
      "Requirement already satisfied: pytz>=2020.1 in c:\\users\\isatyamks\\appdata\\local\\programs\\python\\python312\\lib\\site-packages (from pandas->geemap) (2024.1)\n",
      "Requirement already satisfied: tzdata>=2022.7 in c:\\users\\isatyamks\\appdata\\local\\programs\\python\\python312\\lib\\site-packages (from pandas->geemap) (2024.1)\n",
      "Requirement already satisfied: click in c:\\users\\isatyamks\\appdata\\local\\programs\\python\\python312\\lib\\site-packages (from geocoder->geemap) (8.1.7)\n",
      "Requirement already satisfied: future in c:\\users\\isatyamks\\appdata\\local\\programs\\python\\python312\\lib\\site-packages (from geocoder->geemap) (1.0.0)\n",
      "Requirement already satisfied: ratelim in c:\\users\\isatyamks\\appdata\\local\\programs\\python\\python312\\lib\\site-packages (from geocoder->geemap) (0.1.6)\n",
      "Requirement already satisfied: six in c:\\users\\isatyamks\\appdata\\local\\programs\\python\\python312\\lib\\site-packages (from geocoder->geemap) (1.16.0)\n",
      "Requirement already satisfied: contourpy>=1.0.1 in c:\\users\\isatyamks\\appdata\\local\\programs\\python\\python312\\lib\\site-packages (from matplotlib->geemap) (1.2.1)\n",
      "Requirement already satisfied: cycler>=0.10 in c:\\users\\isatyamks\\appdata\\local\\programs\\python\\python312\\lib\\site-packages (from matplotlib->geemap) (0.12.1)\n",
      "Requirement already satisfied: fonttools>=4.22.0 in c:\\users\\isatyamks\\appdata\\local\\programs\\python\\python312\\lib\\site-packages (from matplotlib->geemap) (4.53.0)\n",
      "Requirement already satisfied: kiwisolver>=1.3.1 in c:\\users\\isatyamks\\appdata\\local\\programs\\python\\python312\\lib\\site-packages (from matplotlib->geemap) (1.4.5)\n",
      "Requirement already satisfied: packaging>=20.0 in c:\\users\\isatyamks\\appdata\\local\\programs\\python\\python312\\lib\\site-packages (from matplotlib->geemap) (24.0)\n",
      "Requirement already satisfied: pillow>=8 in c:\\users\\isatyamks\\appdata\\local\\programs\\python\\python312\\lib\\site-packages (from matplotlib->geemap) (10.3.0)\n",
      "Requirement already satisfied: pyparsing>=2.3.1 in c:\\users\\isatyamks\\appdata\\local\\programs\\python\\python312\\lib\\site-packages (from matplotlib->geemap) (3.1.2)\n",
      "Requirement already satisfied: tenacity>=6.2.0 in c:\\users\\isatyamks\\appdata\\local\\programs\\python\\python312\\lib\\site-packages (from plotly->geemap) (8.3.0)\n",
      "Requirement already satisfied: google-api-core!=2.0.*,!=2.1.*,!=2.2.*,!=2.3.0,<3.0.0.dev0,>=1.31.5 in c:\\users\\isatyamks\\appdata\\local\\programs\\python\\python312\\lib\\site-packages (from google-api-python-client>=1.12.1->earthengine-api>=1.0.0->geemap) (2.19.0)\n",
      "Requirement already satisfied: uritemplate<5,>=3.0.1 in c:\\users\\isatyamks\\appdata\\local\\programs\\python\\python312\\lib\\site-packages (from google-api-python-client>=1.12.1->earthengine-api>=1.0.0->geemap) (4.1.1)\n",
      "Requirement already satisfied: cachetools<6.0,>=2.0.0 in c:\\users\\isatyamks\\appdata\\local\\programs\\python\\python312\\lib\\site-packages (from google-auth>=1.4.1->earthengine-api>=1.0.0->geemap) (5.3.3)\n",
      "Requirement already satisfied: pyasn1-modules>=0.2.1 in c:\\users\\isatyamks\\appdata\\local\\programs\\python\\python312\\lib\\site-packages (from google-auth>=1.4.1->earthengine-api>=1.0.0->geemap) (0.4.0)\n",
      "Requirement already satisfied: rsa<5,>=3.1.4 in c:\\users\\isatyamks\\appdata\\local\\programs\\python\\python312\\lib\\site-packages (from google-auth>=1.4.1->earthengine-api>=1.0.0->geemap) (4.9)\n",
      "Requirement already satisfied: comm>=0.1.3 in c:\\users\\isatyamks\\appdata\\local\\programs\\python\\python312\\lib\\site-packages (from ipywidgets->ipyfilechooser>=0.6.0->geemap) (0.2.2)\n",
      "Requirement already satisfied: ipython>=6.1.0 in c:\\users\\isatyamks\\appdata\\local\\programs\\python\\python312\\lib\\site-packages (from ipywidgets->ipyfilechooser>=0.6.0->geemap) (8.24.0)\n",
      "Requirement already satisfied: widgetsnbextension~=4.0.11 in c:\\users\\isatyamks\\appdata\\local\\programs\\python\\python312\\lib\\site-packages (from ipywidgets->ipyfilechooser>=0.6.0->geemap) (4.0.11)\n",
      "Requirement already satisfied: jupyterlab-widgets~=3.0.11 in c:\\users\\isatyamks\\appdata\\local\\programs\\python\\python312\\lib\\site-packages (from ipywidgets->ipyfilechooser>=0.6.0->geemap) (3.0.11)\n",
      "Requirement already satisfied: MarkupSafe>=2.0 in c:\\users\\isatyamks\\appdata\\local\\programs\\python\\python312\\lib\\site-packages (from jinja2>=2.9->folium>=0.17.0->geemap) (2.1.5)\n",
      "Requirement already satisfied: colorama in c:\\users\\isatyamks\\appdata\\local\\programs\\python\\python312\\lib\\site-packages (from click->geocoder->geemap) (0.4.6)\n",
      "Requirement already satisfied: google-cloud-core<3.0dev,>=2.3.0 in c:\\users\\isatyamks\\appdata\\local\\programs\\python\\python312\\lib\\site-packages (from google-cloud-storage->earthengine-api>=1.0.0->geemap) (2.4.1)\n",
      "Requirement already satisfied: google-resumable-media>=2.7.2 in c:\\users\\isatyamks\\appdata\\local\\programs\\python\\python312\\lib\\site-packages (from google-cloud-storage->earthengine-api>=1.0.0->geemap) (2.7.2)\n",
      "Requirement already satisfied: google-crc32c<2.0dev,>=1.0 in c:\\users\\isatyamks\\appdata\\local\\programs\\python\\python312\\lib\\site-packages (from google-cloud-storage->earthengine-api>=1.0.0->geemap) (1.6.0)\n",
      "Requirement already satisfied: charset-normalizer<4,>=2 in c:\\users\\isatyamks\\appdata\\local\\programs\\python\\python312\\lib\\site-packages (from requests->earthengine-api>=1.0.0->geemap) (3.3.2)\n",
      "Requirement already satisfied: idna<4,>=2.5 in c:\\users\\isatyamks\\appdata\\local\\programs\\python\\python312\\lib\\site-packages (from requests->earthengine-api>=1.0.0->geemap) (3.7)\n",
      "Requirement already satisfied: urllib3<3,>=1.21.1 in c:\\users\\isatyamks\\appdata\\local\\programs\\python\\python312\\lib\\site-packages (from requests->earthengine-api>=1.0.0->geemap) (2.2.1)\n",
      "Requirement already satisfied: certifi>=2017.4.17 in c:\\users\\isatyamks\\appdata\\local\\programs\\python\\python312\\lib\\site-packages (from requests->earthengine-api>=1.0.0->geemap) (2024.2.2)\n",
      "Requirement already satisfied: decorator in c:\\users\\isatyamks\\appdata\\local\\programs\\python\\python312\\lib\\site-packages (from ratelim->geocoder->geemap) (5.1.1)\n",
      "Requirement already satisfied: googleapis-common-protos<2.0.dev0,>=1.56.2 in c:\\users\\isatyamks\\appdata\\local\\programs\\python\\python312\\lib\\site-packages (from google-api-core!=2.0.*,!=2.1.*,!=2.2.*,!=2.3.0,<3.0.0.dev0,>=1.31.5->google-api-python-client>=1.12.1->earthengine-api>=1.0.0->geemap) (1.63.1)\n",
      "Requirement already satisfied: protobuf!=3.20.0,!=3.20.1,!=4.21.0,!=4.21.1,!=4.21.2,!=4.21.3,!=4.21.4,!=4.21.5,<5.0.0.dev0,>=3.19.5 in c:\\users\\isatyamks\\appdata\\local\\programs\\python\\python312\\lib\\site-packages (from google-api-core!=2.0.*,!=2.1.*,!=2.2.*,!=2.3.0,<3.0.0.dev0,>=1.31.5->google-api-python-client>=1.12.1->earthengine-api>=1.0.0->geemap) (4.25.3)\n",
      "Requirement already satisfied: proto-plus<2.0.0dev,>=1.22.3 in c:\\users\\isatyamks\\appdata\\local\\programs\\python\\python312\\lib\\site-packages (from google-api-core!=2.0.*,!=2.1.*,!=2.2.*,!=2.3.0,<3.0.0.dev0,>=1.31.5->google-api-python-client>=1.12.1->earthengine-api>=1.0.0->geemap) (1.23.0)\n",
      "Requirement already satisfied: jedi>=0.16 in c:\\users\\isatyamks\\appdata\\local\\programs\\python\\python312\\lib\\site-packages (from ipython>=6.1.0->ipywidgets->ipyfilechooser>=0.6.0->geemap) (0.19.1)\n",
      "Requirement already satisfied: matplotlib-inline in c:\\users\\isatyamks\\appdata\\local\\programs\\python\\python312\\lib\\site-packages (from ipython>=6.1.0->ipywidgets->ipyfilechooser>=0.6.0->geemap) (0.1.7)\n",
      "Requirement already satisfied: prompt-toolkit<3.1.0,>=3.0.41 in c:\\users\\isatyamks\\appdata\\local\\programs\\python\\python312\\lib\\site-packages (from ipython>=6.1.0->ipywidgets->ipyfilechooser>=0.6.0->geemap) (3.0.45)\n",
      "Requirement already satisfied: pygments>=2.4.0 in c:\\users\\isatyamks\\appdata\\local\\programs\\python\\python312\\lib\\site-packages (from ipython>=6.1.0->ipywidgets->ipyfilechooser>=0.6.0->geemap) (2.18.0)\n",
      "Requirement already satisfied: stack-data in c:\\users\\isatyamks\\appdata\\local\\programs\\python\\python312\\lib\\site-packages (from ipython>=6.1.0->ipywidgets->ipyfilechooser>=0.6.0->geemap) (0.6.3)\n",
      "Requirement already satisfied: pyasn1<0.7.0,>=0.4.6 in c:\\users\\isatyamks\\appdata\\local\\programs\\python\\python312\\lib\\site-packages (from pyasn1-modules>=0.2.1->google-auth>=1.4.1->earthengine-api>=1.0.0->geemap) (0.6.0)\n",
      "Requirement already satisfied: parso<0.9.0,>=0.8.3 in c:\\users\\isatyamks\\appdata\\local\\programs\\python\\python312\\lib\\site-packages (from jedi>=0.16->ipython>=6.1.0->ipywidgets->ipyfilechooser>=0.6.0->geemap) (0.8.4)\n",
      "Requirement already satisfied: wcwidth in c:\\users\\isatyamks\\appdata\\local\\programs\\python\\python312\\lib\\site-packages (from prompt-toolkit<3.1.0,>=3.0.41->ipython>=6.1.0->ipywidgets->ipyfilechooser>=0.6.0->geemap) (0.2.13)\n",
      "Requirement already satisfied: executing>=1.2.0 in c:\\users\\isatyamks\\appdata\\local\\programs\\python\\python312\\lib\\site-packages (from stack-data->ipython>=6.1.0->ipywidgets->ipyfilechooser>=0.6.0->geemap) (2.0.1)\n",
      "Requirement already satisfied: asttokens>=2.1.0 in c:\\users\\isatyamks\\appdata\\local\\programs\\python\\python312\\lib\\site-packages (from stack-data->ipython>=6.1.0->ipywidgets->ipyfilechooser>=0.6.0->geemap) (2.4.1)\n",
      "Requirement already satisfied: pure-eval in c:\\users\\isatyamks\\appdata\\local\\programs\\python\\python312\\lib\\site-packages (from stack-data->ipython>=6.1.0->ipywidgets->ipyfilechooser>=0.6.0->geemap) (0.2.2)\n"
     ]
    }
   ],
   "source": [
    "!pip install geemap\n"
   ]
  },
  {
   "cell_type": "code",
   "execution_count": null,
   "id": "0ce311c6-d7d8-4d93-a605-355d683fa2cf",
   "metadata": {},
   "outputs": [],
   "source": []
  }
 ],
 "metadata": {
  "kernelspec": {
   "display_name": "Python 3 (ipykernel)",
   "language": "python",
   "name": "python3"
  },
  "language_info": {
   "codemirror_mode": {
    "name": "ipython",
    "version": 3
   },
   "file_extension": ".py",
   "mimetype": "text/x-python",
   "name": "python",
   "nbconvert_exporter": "python",
   "pygments_lexer": "ipython3",
   "version": "3.12.3"
  }
 },
 "nbformat": 4,
 "nbformat_minor": 5
}
